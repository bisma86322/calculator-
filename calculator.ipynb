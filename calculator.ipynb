{
  "nbformat": 4,
  "nbformat_minor": 0,
  "metadata": {
    "colab": {
      "provenance": [],
      "authorship_tag": "ABX9TyMs8veatxCz3qi9EsTIHJqv",
      "include_colab_link": true
    },
    "kernelspec": {
      "name": "python3",
      "display_name": "Python 3"
    },
    "language_info": {
      "name": "python"
    }
  },
  "cells": [
    {
      "cell_type": "markdown",
      "metadata": {
        "id": "view-in-github",
        "colab_type": "text"
      },
      "source": [
        "<a href=\"https://colab.research.google.com/github/bisma86322/calculator-/blob/main/calculator.ipynb\" target=\"_parent\"><img src=\"https://colab.research.google.com/assets/colab-badge.svg\" alt=\"Open In Colab\"/></a>"
      ]
    },
    {
      "cell_type": "code",
      "execution_count": null,
      "metadata": {
        "colab": {
          "base_uri": "https://localhost:8080/"
        },
        "id": "YQtmWqHygoy4",
        "outputId": "1aa2195d-6ca0-4c2d-bd79-e103352db33a"
      },
      "outputs": [
        {
          "output_type": "stream",
          "name": "stdout",
          "text": [
            "hello world\n"
          ]
        }
      ],
      "source": [
        "print(\"hello world\")"
      ]
    },
    {
      "cell_type": "markdown",
      "source": [
        "operators"
      ],
      "metadata": {
        "id": "FYTO-UX0hqCg"
      }
    },
    {
      "cell_type": "markdown",
      "source": [
        "Fuction to add two numbers"
      ],
      "metadata": {
        "id": "D0Klu50Ko6_w"
      }
    },
    {
      "cell_type": "code",
      "source": [
        "# Simple calculator function\n",
        "def calculator():\n",
        "    print(\"Select operation:\")\n",
        "    print(\"1. Add\")\n",
        "    print(\"2. Subtract\")\n",
        "    print(\"3. Multiply\")\n",
        "    print(\"4. Divide\")\n",
        "\n",
        "    # Take input from the user\n",
        "    choice = input(\"Enter choice (1/2/3/4): \")\n",
        "\n",
        "    # Input numbers\n",
        "    num1 = float(input(\"Enter first number: \"))\n",
        "    num2 = float(input(\"Enter second number: \"))\n",
        "\n",
        "    # Perform the calculation based on user choice\n",
        "    if choice == '1':\n",
        "        result = num1 + num2\n",
        "        print(f\"The result is: {result}\")\n",
        "    elif choice == '2':\n",
        "        result = num1 - num2\n",
        "        print(f\"The result is: {result}\")\n",
        "    elif choice == '3':\n",
        "        result = num1 * num2\n",
        "        print(f\"The result is: {result}\")\n",
        "    elif choice == '4':\n",
        "        if num2 != 0:\n",
        "            result = num1 / num2\n",
        "            print(f\"The result is: {result}\")\n",
        "        else:\n",
        "            print(\"Error! Division by zero.\")\n",
        "    else:\n",
        "        print(\"Invalid input\")\n",
        "\n",
        "# Call the calculator function\n",
        "calculator()\n",
        "\n",
        "\n",
        "\n",
        "\n"
      ],
      "metadata": {
        "colab": {
          "base_uri": "https://localhost:8080/"
        },
        "id": "Xs3f2sslpF_p",
        "outputId": "bdbdb5f6-5011-4320-bdef-24b251e9dbd9"
      },
      "execution_count": 5,
      "outputs": [
        {
          "output_type": "stream",
          "name": "stdout",
          "text": [
            "Select operation:\n",
            "1. Add\n",
            "2. Subtract\n",
            "3. Multiply\n",
            "4. Divide\n",
            "Enter choice (1/2/3/4): 1\n",
            "Enter first number: 23\n",
            "Enter second number: 45\n",
            "The result is: 68.0\n"
          ]
        }
      ]
    }
  ]
}