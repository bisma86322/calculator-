{
  "nbformat": 4,
  "nbformat_minor": 0,
  "metadata": {
    "colab": {
      "provenance": [],
      "authorship_tag": "ABX9TyPdwY2+EXcr1Dr25jY5hEDW",
      "include_colab_link": true
    },
    "kernelspec": {
      "name": "python3",
      "display_name": "Python 3"
    },
    "language_info": {
      "name": "python"
    }
  },
  "cells": [
    {
      "cell_type": "markdown",
      "metadata": {
        "id": "view-in-github",
        "colab_type": "text"
      },
      "source": [
        "<a href=\"https://colab.research.google.com/github/bisma86322/calculator-/blob/main/Untitled1.ipynb\" target=\"_parent\"><img src=\"https://colab.research.google.com/assets/colab-badge.svg\" alt=\"Open In Colab\"/></a>"
      ]
    },
    {
      "cell_type": "code",
      "execution_count": null,
      "metadata": {
        "id": "IACSa9sxB5c5"
      },
      "outputs": [],
      "source": [
        "import streamlit as st\n",
        "import math\n",
        "\n",
        "# Create a function for the calculator\n",
        "def scientific_calculator():\n",
        "    st.title(\"Scientific Calculator\")\n",
        "\n",
        "    # Select operation\n",
        "    operation = st.selectbox(\n",
        "        \"Select an operation\",\n",
        "        ['Add', 'Subtract', 'Multiply', 'Divide', 'Power', 'Square Root', 'Sine', 'Cosine', 'Tangent', 'Logarithm (Base 10)']\n",
        "    )\n",
        "\n",
        "    # Input fields based on the operation\n",
        "    if operation in ['Add', 'Subtract', 'Multiply', 'Divide', 'Power']:\n",
        "        num1 = st.number_input(\"Enter first number\", value=0.0)\n",
        "        num2 = st.number_input(\"Enter second number\", value=0.0)\n",
        "\n",
        "        if st.button('Calculate'):\n",
        "            if operation == 'Add':\n",
        "                st.write(f\"Result: {num1} + {num2} = {num1 + num2}\")\n",
        "            elif operation == 'Subtract':\n",
        "                st.write(f\"Result: {num1} - {num2} = {num1 - num2}\")\n",
        "            elif operation == 'Multiply':\n",
        "                st.write(f\"Result: {num1} * {num2} = {num1 * num2}\")\n",
        "            elif operation == 'Divide':\n",
        "                if num2 == 0:\n",
        "                    st.error(\"Error! Division by zero.\")\n",
        "                else:\n",
        "                    st.write(f\"Result: {num1} / {num2} = {num1 / num2}\")\n",
        "            elif operation == 'Power':\n",
        "                st.write(f\"Result: {num1} ^ {num2} = {math.pow(num1, num2)}\")\n",
        "\n",
        "    elif operation in ['Square Root', 'Sine', 'Cosine', 'Tangent', 'Logarithm (Base 10)']:\n",
        "        num = st.number_input(\"Enter the number\", value=0.0)\n",
        "\n",
        "        if st.button('Calculate'):\n",
        "            if operation == 'Square Root':\n",
        "                st.write(f\"Result: √{num} = {math.sqrt(num)}\")\n",
        "            elif operation == 'Sine':\n",
        "                st.write(f\"Result: sin({num}) = {math.sin(math.radians(num))}\")\n",
        "            elif operation == 'Cosine':\n",
        "                st.write(f\"Result: cos({num}) = {math.cos(math.radians(num))}\")\n",
        "            elif operation == 'Tangent':\n",
        "                st.write(f\"Result: tan({num}) = {math.tan(math.radians(num))}\")\n",
        "            elif operation == 'Logarithm (Base 10)':\n",
        "                if num <= 0:\n",
        "                    st.error(\"Error! Logarithm undefined for non-positive numbers.\")\n",
        "                else:\n",
        "                    st.write(f\"Result: log10({num}) = {math.log10(num)}\")\n",
        "\n",
        "# Run the calculator\n",
        "if __name__ == \"__main__\":\n",
        "    scientific_calculator()\n"
      ]
    }
  ]
}